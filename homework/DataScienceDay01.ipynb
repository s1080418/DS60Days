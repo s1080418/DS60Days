{
 "cells": [
  {
   "cell_type": "markdown",
   "metadata": {
    "id": "P6xk2_jLsvFF"
   },
   "source": [
    "# [作業目標]\n",
    "\n",
    "1. [簡答題] 請問下列兩種將 Array 轉換成 List 的方式有何不同？\n",
    "\n",
    "```\n",
    "print('list(a): ', list(a))\n",
    "print('tolist(): ', a.tolist())\n",
    "```\n",
    "\n",
    "2. 請試著在程式中印出以下三個 NdArray 的屬性？（屬性：ndim、shape、size、dtype、itemsize、length、type）\n",
    "\n",
    "```\n",
    "a = np.random.randint(10, size=6) \n",
    "b = np.random.randint(10, size=(3,4)) \n",
    "c = np.random.randint(10, size=(2,3,2)) \n",
    "```\n",
    "\n",
    "3. 如何利用 list(...) 實現 a.tolist() 的效果？試著用程式實作。\n"
   ]
  },
  {
   "cell_type": "markdown",
   "metadata": {
    "id": "uXGll28asvFS"
   },
   "source": [
    "# 作業 "
   ]
  },
  {
   "cell_type": "markdown",
   "metadata": {
    "id": "SYkvkp9YLwB7"
   },
   "source": [
    "### 1. [簡答題] 請問下列兩種將 Array 轉換成 List 的方式有何不同？\n",
    "\n",
    "```\n",
    "print('list(a): ', list(a))\n",
    "print('tolist(): ', a.tolist())\n",
    "```\n"
   ]
  },
  {
   "cell_type": "code",
   "execution_count": 4,
   "metadata": {
    "id": "5QrYoyNWsvFS",
    "outputId": "13f374d0-6f1b-47aa-bbac-c7d1a8c6995c"
   },
   "outputs": [],
   "source": [
    "#list(a) 僅是讓最外層轉換為 List ，內層部分仍是 Array。\n",
    "#tolist() 則是將外層到內層皆轉換為 List 。"
   ]
  },
  {
   "cell_type": "markdown",
   "metadata": {
    "id": "AC9wUCyALwB9"
   },
   "source": [
    "### 2. 請試著在程式中印出以下三個 NdArray 的屬性並且解釋結果？（屬性：ndim、shape、size、dtype、itemsize、length、type）\n",
    "\n",
    "```\n",
    "a = np.random.randint(10, size=6) \n",
    "b = np.random.randint(10, size=(3,4)) \n",
    "c = np.random.randint(10, size=(2,3,2)) \n",
    "```"
   ]
  },
  {
   "cell_type": "code",
   "execution_count": 3,
   "metadata": {
    "id": "4qARRsdtLwB-"
   },
   "outputs": [],
   "source": [
    "# 記得先 Import 正確的套件\n",
    "\n",
    "import numpy as np"
   ]
  },
  {
   "cell_type": "code",
   "execution_count": 4,
   "metadata": {
    "id": "e1gVI0tvsvFY",
    "outputId": "9be10770-9042-40c8-c4bc-217b84be9fc9"
   },
   "outputs": [
    {
     "name": "stdout",
     "output_type": "stream",
     "text": [
      "[0 3 7 7 7 3]\n",
      "1\n",
      "(6,)\n",
      "6\n",
      "int32\n",
      "4\n",
      "<memory at 0x0000019077D99280>\n"
     ]
    }
   ],
   "source": [
    "\n",
    "a = np.random.randint(10, size=6) \n",
    "\n",
    "print(a)\n",
    "print(a.ndim)    #此為一維陣列\n",
    "print(a.shape)   #此陣列的一維的空間大小為 6\n",
    "print(a.size)    #此陣列含有 6 個元素\n",
    "print(a.dtype)   #此陣列的資料型態為 int32\n",
    "print(a.itemsize)#每個元素占用的為 4 bytes\n",
    "print(a.data)    #資料所儲存的 address 為 0x00000247D5CEEAC0"
   ]
  },
  {
   "cell_type": "code",
   "execution_count": 5,
   "metadata": {
    "id": "iIJrIr7kLwB_",
    "outputId": "083c5519-394c-404e-9764-100c4ed5118a"
   },
   "outputs": [
    {
     "name": "stdout",
     "output_type": "stream",
     "text": [
      "[[9 5 2 0]\n",
      " [1 7 2 2]\n",
      " [3 8 6 2]]\n",
      "2\n",
      "(3, 4)\n",
      "12\n",
      "int32\n",
      "4\n",
      "<memory at 0x0000019077D89930>\n"
     ]
    }
   ],
   "source": [
    "b = np.random.randint(10, size=(3,4)) \n",
    "\n",
    "print(b)\n",
    "print(b.ndim)    #此為二維陣列\n",
    "print(b.shape)   #此陣列的一維的空間大小為 3，\n",
    "                 # 二維的空間大小為 4。\n",
    "print(b.size)    #此陣列含有 12 個元素\n",
    "print(b.dtype)   #此陣列的資料型態為 int32\n",
    "print(b.itemsize)#每個元素占用的為 4 bytes\n",
    "print(b.data)    #資料所儲存的 address 為 0x00000247D6AA42B0"
   ]
  },
  {
   "cell_type": "code",
   "execution_count": 6,
   "metadata": {
    "id": "98SRFh_FLwCC",
    "outputId": "dc65dfac-9ae6-49d2-f854-88eccebc2aac"
   },
   "outputs": [
    {
     "name": "stdout",
     "output_type": "stream",
     "text": [
      "[[[6 2]\n",
      "  [3 7]\n",
      "  [5 7]]\n",
      "\n",
      " [[0 7]\n",
      "  [1 9]\n",
      "  [2 8]]]\n",
      "3\n",
      "(2, 3, 2)\n",
      "12\n",
      "int32\n",
      "4\n",
      "<memory at 0x00000190780AFD60>\n"
     ]
    }
   ],
   "source": [
    "c = np.random.randint(10, size=(2,3,2)) \n",
    "\n",
    "print(c)\n",
    "print(c.ndim)    #此為三維陣列\n",
    "print(c.shape)   #此陣列的一維的空間大小為 2\n",
    "                 # 二維的空間大小為 3\n",
    "                 # 三維的空間大小為 2\n",
    "print(c.size)    #此陣列含有 12 個元素\n",
    "print(c.dtype)   #此陣列的資料型態為 int32\n",
    "print(c.itemsize)#每個元素占用的為 4 bytes\n",
    "print(c.data)    #資料所儲存的 address 為 0x00000247D6767220"
   ]
  },
  {
   "cell_type": "markdown",
   "metadata": {
    "id": "Uf6zC0QZLwCE"
   },
   "source": [
    "### 3. 如何利用 list(...) 實現 a.tolist() 的效果？試著用程式實作。\n"
   ]
  },
  {
   "cell_type": "code",
   "execution_count": 7,
   "metadata": {
    "id": "sCUzHu_BLwCF",
    "outputId": "ba9c8945-8efb-42b1-f978-2bbdda97accd"
   },
   "outputs": [
    {
     "name": "stdout",
     "output_type": "stream",
     "text": [
      "[0, 2, 2, 1, 3, 3]\n",
      "[0, 2, 2, 1, 3, 3]\n"
     ]
    }
   ],
   "source": [
    "a = np.random.randint(10, size=6) \n",
    "\n",
    "print(a.tolist())\n",
    "print(list(a))\n"
   ]
  },
  {
   "cell_type": "code",
   "execution_count": 9,
   "metadata": {
    "id": "IUkVtw8RLwCG",
    "outputId": "e39875a5-5ec7-431b-c12a-485acc167e44"
   },
   "outputs": [
    {
     "name": "stdout",
     "output_type": "stream",
     "text": [
      "[[2, 3, 8, 9], [0, 0, 8, 7], [9, 1, 3, 9]]\n",
      "[array([2, 3, 8, 9]), array([0, 0, 8, 7]), array([9, 1, 3, 9])]\n"
     ]
    }
   ],
   "source": [
    "b = np.random.randint(10, size=(3,4)) \n",
    "\n",
    "print(b.tolist())\n",
    "print(list(b))\n"
   ]
  },
  {
   "cell_type": "code",
   "execution_count": 10,
   "metadata": {
    "id": "NPhF8_CqLwCG",
    "outputId": "51fab908-5bfd-415f-9584-92bb376648c8"
   },
   "outputs": [
    {
     "name": "stdout",
     "output_type": "stream",
     "text": [
      "[[[2, 1], [6, 7], [9, 0]], [[1, 7], [9, 0], [7, 2]]]\n",
      "[array([[2, 1],\n",
      "       [6, 7],\n",
      "       [9, 0]]), array([[1, 7],\n",
      "       [9, 0],\n",
      "       [7, 2]])]\n"
     ]
    }
   ],
   "source": [
    "c = np.random.randint(10, size=(2,3,2)) \n",
    "\n",
    "print(c.tolist())\n",
    "print(list(cx))\n"
   ]
  },
  {
   "cell_type": "code",
   "execution_count": 13,
   "metadata": {
    "id": "3Hc8vQYtLwCH",
    "outputId": "1290bc93-84ca-4da4-eb1a-315da37afaff"
   },
   "outputs": [
    {
     "name": "stdout",
     "output_type": "stream",
     "text": [
      "[0, 2, 2, 1, 3, 3]\n",
      "[[2, 3, 8, 9], [0, 0, 8, 7], [9, 1, 3, 9]]\n",
      "[[[2, 1], [6, 7], [9, 0]], [[1, 7], [9, 0], [7, 2]]]\n"
     ]
    }
   ],
   "source": [
    "def tolist(iterable):\n",
    "    if(iterable.ndim == 1):\n",
    "        return list(iterable)\n",
    "    elif(iterable.ndim == 2):\n",
    "        x = list(iterable)\n",
    "        for i in range(iterable.shape[0]):\n",
    "            x[i] = list(iterable[i])\n",
    "        return list(x)\n",
    "    elif(iterable.ndim == 3):\n",
    "        x = list(iterable)\n",
    "        for i in range(c.shape[0]):\n",
    "            x[i] = list(iterable[i])\n",
    "            for j in range(iterable.shape[1]):\n",
    "                x[i][j] = list(iterable[i][j])\n",
    "        return list(x)\n",
    "print(tolist(a))\n",
    "print(tolist(b))\n",
    "print(tolist(c))"
   ]
  }
 ],
 "metadata": {
  "colab": {
   "name": "01Homework_維元.ipynb",
   "provenance": []
  },
  "kernelspec": {
   "display_name": "Python 3",
   "language": "python",
   "name": "python3"
  },
  "language_info": {
   "codemirror_mode": {
    "name": "ipython",
    "version": 3
   },
   "file_extension": ".py",
   "mimetype": "text/x-python",
   "name": "python",
   "nbconvert_exporter": "python",
   "pygments_lexer": "ipython3",
   "version": "3.9.2"
  }
 },
 "nbformat": 4,
 "nbformat_minor": 1
}
